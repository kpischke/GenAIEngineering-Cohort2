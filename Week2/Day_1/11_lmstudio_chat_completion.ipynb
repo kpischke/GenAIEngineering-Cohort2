{
 "cells": [
  {
   "cell_type": "markdown",
   "id": "37fe7983",
   "metadata": {},
   "source": [
    "Create a virtual environment and then `pip install openai`"
   ]
  },
  {
   "cell_type": "code",
   "execution_count": 11,
   "id": "65b9d82f",
   "metadata": {},
   "outputs": [
    {
     "name": "stdout",
     "output_type": "stream",
     "text": [
      "Defaulting to user installation because normal site-packages is not writeable\n",
      "Requirement already satisfied: openai in c:\\users\\kh-ab\\appdata\\local\\packages\\pythonsoftwarefoundation.python.3.13_qbz5n2kfra8p0\\localcache\\local-packages\\python313\\site-packages (1.93.0)\n",
      "Requirement already satisfied: anyio<5,>=3.5.0 in c:\\users\\kh-ab\\appdata\\local\\packages\\pythonsoftwarefoundation.python.3.13_qbz5n2kfra8p0\\localcache\\local-packages\\python313\\site-packages (from openai) (4.9.0)\n",
      "Requirement already satisfied: distro<2,>=1.7.0 in c:\\users\\kh-ab\\appdata\\local\\packages\\pythonsoftwarefoundation.python.3.13_qbz5n2kfra8p0\\localcache\\local-packages\\python313\\site-packages (from openai) (1.9.0)\n",
      "Requirement already satisfied: httpx<1,>=0.23.0 in c:\\users\\kh-ab\\appdata\\local\\packages\\pythonsoftwarefoundation.python.3.13_qbz5n2kfra8p0\\localcache\\local-packages\\python313\\site-packages (from openai) (0.28.1)\n",
      "Requirement already satisfied: jiter<1,>=0.4.0 in c:\\users\\kh-ab\\appdata\\local\\packages\\pythonsoftwarefoundation.python.3.13_qbz5n2kfra8p0\\localcache\\local-packages\\python313\\site-packages (from openai) (0.10.0)\n",
      "Requirement already satisfied: pydantic<3,>=1.9.0 in c:\\users\\kh-ab\\appdata\\local\\packages\\pythonsoftwarefoundation.python.3.13_qbz5n2kfra8p0\\localcache\\local-packages\\python313\\site-packages (from openai) (2.11.7)\n",
      "Requirement already satisfied: sniffio in c:\\users\\kh-ab\\appdata\\local\\packages\\pythonsoftwarefoundation.python.3.13_qbz5n2kfra8p0\\localcache\\local-packages\\python313\\site-packages (from openai) (1.3.1)\n",
      "Requirement already satisfied: tqdm>4 in c:\\users\\kh-ab\\appdata\\local\\packages\\pythonsoftwarefoundation.python.3.13_qbz5n2kfra8p0\\localcache\\local-packages\\python313\\site-packages (from openai) (4.67.1)\n",
      "Requirement already satisfied: typing-extensions<5,>=4.11 in c:\\users\\kh-ab\\appdata\\local\\packages\\pythonsoftwarefoundation.python.3.13_qbz5n2kfra8p0\\localcache\\local-packages\\python313\\site-packages (from openai) (4.14.0)\n",
      "Requirement already satisfied: idna>=2.8 in c:\\users\\kh-ab\\appdata\\local\\packages\\pythonsoftwarefoundation.python.3.13_qbz5n2kfra8p0\\localcache\\local-packages\\python313\\site-packages (from anyio<5,>=3.5.0->openai) (3.10)\n",
      "Requirement already satisfied: certifi in c:\\users\\kh-ab\\appdata\\local\\packages\\pythonsoftwarefoundation.python.3.13_qbz5n2kfra8p0\\localcache\\local-packages\\python313\\site-packages (from httpx<1,>=0.23.0->openai) (2025.6.15)\n",
      "Requirement already satisfied: httpcore==1.* in c:\\users\\kh-ab\\appdata\\local\\packages\\pythonsoftwarefoundation.python.3.13_qbz5n2kfra8p0\\localcache\\local-packages\\python313\\site-packages (from httpx<1,>=0.23.0->openai) (1.0.9)\n",
      "Requirement already satisfied: h11>=0.16 in c:\\users\\kh-ab\\appdata\\local\\packages\\pythonsoftwarefoundation.python.3.13_qbz5n2kfra8p0\\localcache\\local-packages\\python313\\site-packages (from httpcore==1.*->httpx<1,>=0.23.0->openai) (0.16.0)\n",
      "Requirement already satisfied: annotated-types>=0.6.0 in c:\\users\\kh-ab\\appdata\\local\\packages\\pythonsoftwarefoundation.python.3.13_qbz5n2kfra8p0\\localcache\\local-packages\\python313\\site-packages (from pydantic<3,>=1.9.0->openai) (0.7.0)\n",
      "Requirement already satisfied: pydantic-core==2.33.2 in c:\\users\\kh-ab\\appdata\\local\\packages\\pythonsoftwarefoundation.python.3.13_qbz5n2kfra8p0\\localcache\\local-packages\\python313\\site-packages (from pydantic<3,>=1.9.0->openai) (2.33.2)\n",
      "Requirement already satisfied: typing-inspection>=0.4.0 in c:\\users\\kh-ab\\appdata\\local\\packages\\pythonsoftwarefoundation.python.3.13_qbz5n2kfra8p0\\localcache\\local-packages\\python313\\site-packages (from pydantic<3,>=1.9.0->openai) (0.4.1)\n",
      "Requirement already satisfied: colorama in c:\\users\\kh-ab\\appdata\\local\\packages\\pythonsoftwarefoundation.python.3.13_qbz5n2kfra8p0\\localcache\\local-packages\\python313\\site-packages (from tqdm>4->openai) (0.4.6)\n",
      "Note: you may need to restart the kernel to use updated packages.\n"
     ]
    }
   ],
   "source": [
    "%pip install openai    \n",
    "\n",
    "from openai import OpenAI\n",
    "\n",
    "client = OpenAI(\n",
    "    base_url=\"http://192.168.120.165:1234\", #  Change this to your setting from LM Studio\n",
    "    api_key=\"lm-studio\"\n",
    ")"
   ]
  },
  {
   "cell_type": "code",
   "execution_count": 15,
   "id": "4cb0d960",
   "metadata": {},
   "outputs": [
    {
     "name": "stdout",
     "output_type": "stream",
     "text": [
      "ChatCompletion(id=None, choices=None, created=None, model=None, object=None, service_tier=None, system_fingerprint=None, usage=None, error='Unexpected endpoint or method. (POST /chat/completions)')\n"
     ]
    }
   ],
   "source": [
    "completion = client.chat.completions.create(\n",
    "    model=\"google/gemma-3-12b\",\n",
    "    messages=[\n",
    "        {\"role\": \"system\", \"content\": \"Always answer in rhymes.\"},\n",
    "        {\"role\": \"user\", \"content\": \"Introduce yourself.\"}\n",
    "    ],\n",
    "    temperature=2,\n",
    "    max_tokens=2500\n",
    "    # seed=32\n",
    ")\n",
    "\n",
    "\n",
    "print(completion)"
   ]
  },
  {
   "cell_type": "code",
   "execution_count": 19,
   "id": "d92c1a86",
   "metadata": {},
   "outputs": [
    {
     "ename": "TypeError",
     "evalue": "'NoneType' object is not subscriptable",
     "output_type": "error",
     "traceback": [
      "\u001b[31m---------------------------------------------------------------------------\u001b[39m",
      "\u001b[31mTypeError\u001b[39m                                 Traceback (most recent call last)",
      "\u001b[36mCell\u001b[39m\u001b[36m \u001b[39m\u001b[32mIn[19]\u001b[39m\u001b[32m, line 1\u001b[39m\n\u001b[32m----> \u001b[39m\u001b[32m1\u001b[39m completion_text = \u001b[43mcompletion\u001b[49m\u001b[43m.\u001b[49m\u001b[43mchoices\u001b[49m\u001b[43m[\u001b[49m\u001b[32;43m0\u001b[39;49m\u001b[43m]\u001b[49m.message.content\n\u001b[32m      2\u001b[39m \u001b[38;5;66;03m# print(completion_text)\u001b[39;00m\n\u001b[32m      3\u001b[39m \u001b[38;5;28mprint\u001b[39m(completion.choices[\u001b[32m0\u001b[39m].message.content)\n",
      "\u001b[31mTypeError\u001b[39m: 'NoneType' object is not subscriptable"
     ]
    }
   ],
   "source": [
    "completion_text = completion.choices[0].message.content\n",
    "# print(completion_text)\n",
    "print(completion.choices[0].message.content)"
   ]
  },
  {
   "cell_type": "code",
   "execution_count": null,
   "id": "49f88c0c",
   "metadata": {},
   "outputs": [
    {
     "name": "stdout",
     "output_type": "stream",
     "text": [
      "ChatCompletion(id='chatcmpl-4qu4zrw2l6r8qj0zxjre04', choices=[Choice(finish_reason='stop', index=0, logprobs=None, message=ChatCompletionMessage(content='{\\n\"characters\": [\\n    {\\n        \"name\": \"Silas Blackwood\",\\n        \"occupation\": \"Retired Cartographer & Shadow Collector\",\\n        \"personality\": \"Gruff, observant, and deeply melancholic. Silas is a man of few words but immense knowledge about forgotten places and the strange things that linger within them. He carries a perpetual air of sadness, stemming from a past he rarely speaks of – specifically, a lost expedition into the Whispering Peaks.\",\\n        \"background\": \"Silas spent his youth meticulously mapping uncharted territories for the Royal Geographic Society. However, an ill-fated journey to locate the mythical City of Echoes led to the disappearance of his entire team and a profound sense of guilt. He now operates as a private collector of ‘shadows’ – echoes of traumatic events imprinted onto specific locations. He doesn\\'t seek adventure anymore; he just tries to contain the lingering pain of others, often at his own expense.  He wears worn leather gloves and always carries a silver-handled compass that never points North correctly, a constant reminder of his failure.  His eyes are a startlingly pale grey, reflecting the bleakness within him. \\\\n\\\\n**Appearance:** Tall and lean with weathered features and close-cropped, greying hair. He favors dark, practical clothing - sturdy boots, woolen trousers, and a heavy, hooded cloak. A network of faint scars crisscrosses his hands – remnants of past encounters with restless spirits.  ”, 3 870 characters\"\\n    },\\n    {\\n        \"name\": \"Lila “Spark” Ramirez\",\\n        \"occupation\": \"Salvage Mechanic & Techno-Shaman\",\\n        \"personality\": \"Energetic, fiercely independent, and brimming with chaotic optimism. Spark is a whirlwind of grease stains, bright neon hair (currently electric blue), and an uncanny ability to fix anything with circuits and salvaged parts. She’s incredibly resourceful and stubbornly refuses to follow rules unless they make sense to her.\",\\n        \"background\": \"Growing up in the sprawling junkyards on the fringes of Neo-Veridia, Spark learned to survive by tinkering and trading.  She discovered a unique connection to technology – she can ‘feel’ the history of machines, intuiting how they work through a kind of sensory resonance. This ability has led her to be dubbed a ‘Techno-Shaman’ by some, though she prefers just \\'Spark.\\' She\\'s haunted by recurring visions of a catastrophic event that destroyed her family\\'s workshop and is determined to prevent it from happening again.  She operates out of a heavily modified transport vehicle nicknamed ‘The Rust Bucket’ which is as much home as it is a workspace. \\\\n\\\\n**Appearance:** Short, choppy electric blue hair, perpetually smudged with grease. She wears practical overalls over a band t-shirt and always has multiple tools hanging from her belt. Her hands are calloused but nimble, and she has a small, intricate cybernetic tattoo on the back of her neck that pulses faintly when she’s focusing on technology.” , 2468 characters\"\\n    },\\n     {\\n        \"name\": \"Professor Alistair Finch\",\\n        \"occupation\": \"Eccentric Botanist & Linguist\",\\n        \"personality\": \"Absent-minded, prone to rambling tangents, and utterly devoted to the study of rare plants and forgotten languages.  He’s genuinely kind but often oblivious to social cues and frequently loses track of where he is or what he\\'s talking about. He possesses a childlike wonder for the natural world.\",\\n        \"background\": \"Professor Finch spent his life traveling the globe, collecting specimens and deciphering ancient texts relating to plant lore.  He’s currently researching the legendary ‘Bloom of Evernight,’ a flower said to possess the ability to heal any ailment – but also to attract incredibly dangerous entities. He lives in a cluttered cottage overflowing with plants and books, surrounded by a chaotic collection of maps, notebooks, and half-finished translations. His greatest fear is that he\\'ll die before uncovering the secrets held within his research. \\\\n\\\\n**Appearance:** A small, wiry man with spectacles perched on his nose and a perpetually bewildered expression. He wears tweed jackets covered in plant stains and carries a magnifying glass everywhere he goes.” , 1739 characters\"\\n    }\\n]\\n}', refusal=None, role='assistant', annotations=None, audio=None, function_call=None, tool_calls=None))], created=1746523612, model='gemma-3-4b-it-qat', object='chat.completion', service_tier=None, system_fingerprint='gemma-3-4b-it-qat', usage=CompletionUsage(completion_tokens=908, prompt_tokens=24, total_tokens=932, completion_tokens_details=None, prompt_tokens_details=None), stats={})\n",
      "{\n",
      "\"characters\": [\n",
      "    {\n",
      "        \"name\": \"Silas Blackwood\",\n",
      "        \"occupation\": \"Retired Cartographer & Shadow Collector\",\n",
      "        \"personality\": \"Gruff, observant, and deeply melancholic. Silas is a man of few words but immense knowledge about forgotten places and the strange things that linger within them. He carries a perpetual air of sadness, stemming from a past he rarely speaks of – specifically, a lost expedition into the Whispering Peaks.\",\n",
      "        \"background\": \"Silas spent his youth meticulously mapping uncharted territories for the Royal Geographic Society. However, an ill-fated journey to locate the mythical City of Echoes led to the disappearance of his entire team and a profound sense of guilt. He now operates as a private collector of ‘shadows’ – echoes of traumatic events imprinted onto specific locations. He doesn't seek adventure anymore; he just tries to contain the lingering pain of others, often at his own expense.  He wears worn leather gloves and always carries a silver-handled compass that never points North correctly, a constant reminder of his failure.  His eyes are a startlingly pale grey, reflecting the bleakness within him. \\n\\n**Appearance:** Tall and lean with weathered features and close-cropped, greying hair. He favors dark, practical clothing - sturdy boots, woolen trousers, and a heavy, hooded cloak. A network of faint scars crisscrosses his hands – remnants of past encounters with restless spirits.  ”, 3 870 characters\"\n",
      "    },\n",
      "    {\n",
      "        \"name\": \"Lila “Spark” Ramirez\",\n",
      "        \"occupation\": \"Salvage Mechanic & Techno-Shaman\",\n",
      "        \"personality\": \"Energetic, fiercely independent, and brimming with chaotic optimism. Spark is a whirlwind of grease stains, bright neon hair (currently electric blue), and an uncanny ability to fix anything with circuits and salvaged parts. She’s incredibly resourceful and stubbornly refuses to follow rules unless they make sense to her.\",\n",
      "        \"background\": \"Growing up in the sprawling junkyards on the fringes of Neo-Veridia, Spark learned to survive by tinkering and trading.  She discovered a unique connection to technology – she can ‘feel’ the history of machines, intuiting how they work through a kind of sensory resonance. This ability has led her to be dubbed a ‘Techno-Shaman’ by some, though she prefers just 'Spark.' She's haunted by recurring visions of a catastrophic event that destroyed her family's workshop and is determined to prevent it from happening again.  She operates out of a heavily modified transport vehicle nicknamed ‘The Rust Bucket’ which is as much home as it is a workspace. \\n\\n**Appearance:** Short, choppy electric blue hair, perpetually smudged with grease. She wears practical overalls over a band t-shirt and always has multiple tools hanging from her belt. Her hands are calloused but nimble, and she has a small, intricate cybernetic tattoo on the back of her neck that pulses faintly when she’s focusing on technology.” , 2468 characters\"\n",
      "    },\n",
      "     {\n",
      "        \"name\": \"Professor Alistair Finch\",\n",
      "        \"occupation\": \"Eccentric Botanist & Linguist\",\n",
      "        \"personality\": \"Absent-minded, prone to rambling tangents, and utterly devoted to the study of rare plants and forgotten languages.  He’s genuinely kind but often oblivious to social cues and frequently loses track of where he is or what he's talking about. He possesses a childlike wonder for the natural world.\",\n",
      "        \"background\": \"Professor Finch spent his life traveling the globe, collecting specimens and deciphering ancient texts relating to plant lore.  He’s currently researching the legendary ‘Bloom of Evernight,’ a flower said to possess the ability to heal any ailment – but also to attract incredibly dangerous entities. He lives in a cluttered cottage overflowing with plants and books, surrounded by a chaotic collection of maps, notebooks, and half-finished translations. His greatest fear is that he'll die before uncovering the secrets held within his research. \\n\\n**Appearance:** A small, wiry man with spectacles perched on his nose and a perpetually bewildered expression. He wears tweed jackets covered in plant stains and carries a magnifying glass everywhere he goes.” , 1739 characters\"\n",
      "    }\n",
      "]\n",
      "}\n"
     ]
    }
   ],
   "source": [
    "# Structured Output (json or XML)\n",
    "\n",
    "character_schema = {\n",
    "    \"type\": \"json_schema\",\n",
    "    \"json_schema\": {\n",
    "        \"name\": \"characters\",\n",
    "        \"schema\": {\n",
    "            \"type\": \"object\",\n",
    "            \"properties\": {\n",
    "                \"characters\": {\n",
    "                    \"type\": \"array\",\n",
    "                    \"items\": {\n",
    "                        \"type\": \"object\",\n",
    "                        \"properties\": {\n",
    "                            \"name\": {\"type\": \"string\"},\n",
    "                            \"occupation\": {\"type\": \"string\"},\n",
    "                            \"personality\": {\"type\": \"string\"},\n",
    "                            \"background\": {\"type\": \"string\"}\n",
    "                        },\n",
    "                        \"required\": [\"name\", \"occupation\", \"personality\", \"background\"]\n",
    "                    },\n",
    "                    \"minItems\": 1,\n",
    "                }\n",
    "            },\n",
    "            \"required\": [\"characters\"]\n",
    "        },\n",
    "    }\n",
    "}\n",
    "\n",
    "messages = [\n",
    "    {\"role\": \"system\", \"content\": \"You are a helpful AI assistant.\"},\n",
    "    {\"role\": \"user\", \"content\": \"Create 1-3 fictional characters\"}\n",
    "]\n",
    "\n",
    "response = client.chat.completions.create(\n",
    "    model=\"gemma-3-4b-it-qat\",\n",
    "    messages=messages,\n",
    "    temperature=0.7,\n",
    "    max_tokens=2500,\n",
    "    response_format=character_schema\n",
    ")\n",
    "\n",
    "print(response)\n",
    "print(response.choices[0].message.content)"
   ]
  }
 ],
 "metadata": {
  "kernelspec": {
   "display_name": "Python 3",
   "language": "python",
   "name": "python3"
  },
  "language_info": {
   "codemirror_mode": {
    "name": "ipython",
    "version": 3
   },
   "file_extension": ".py",
   "mimetype": "text/x-python",
   "name": "python",
   "nbconvert_exporter": "python",
   "pygments_lexer": "ipython3",
   "version": "3.13.7"
  }
 },
 "nbformat": 4,
 "nbformat_minor": 5
}
